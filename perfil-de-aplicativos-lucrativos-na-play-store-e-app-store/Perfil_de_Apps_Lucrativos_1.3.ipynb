{
 "cells": [
  {
   "cell_type": "markdown",
   "metadata": {},
   "source": [
    "# Perfil de Aplicativo Lucrativo na App Store e Google Play\n",
    "\n",
    "O objetivo desse projeto é recomendar, para nossos desenvolvedores, um perfil do aplicativo mais lucrativo, a partir dos dados da App Store e Google Play Store.\n",
    "\n",
    "Nós atuamos como Analista de Dados em uma empresa que desenvolve aplicativos gratuitos para Android e IOS e o público alvo são usuários que falam Inglês. A receita principal de aplicativos gratuitos vem dos anúncios. Isso significa que a nossa receita é fortemente influenciada pela quantidade de usuários.\n",
    "\n",
    "Esse projeto faz parte do Curso de Python Intermediário do Dataquest e os dados estão disponíveis no Kaggle ([Google Play](https://www.kaggle.com/lava18/google-play-store-apps) e [App Store](https://www.kaggle.com/ramamet4/app-store-apple-data-set-10k-apps/home)). Além das instruções, também foi disponibilizado um arquivo com as [soluções do projeto](https://github.com/dataquestio/solutions/blob/master/Mission350Solutions.ipynb), que foi consultado em algumas ocasiões. \n",
    "\n",
    "Observação: Os nomes de variáveis estão em inglês, pois a solução foi construída em conjunto ao curso que é em inglês.\n",
    "\n",
    "### Conclusão\n",
    "\n",
    "Nesse projeto, analisamos dados da App Store e Google Play Store para achar um perfil de aplicativo lucrativo, se encaixe em alguns requisitos, como a viabilidade do desenvolvimento do mesmo.\n",
    "\n",
    "Chegamos a conclusão que o mercado de aplicativos para leitura não está tão saturado e tem uma demanda bem estável.\n",
    "\n",
    "E que pegar um livro popular ou gênero literário popular e transformar em um app que tenha mais features que aplicativos de leitura comuns, pode ser bem atrativo para tanto os usuários de Android como de IOS."
   ]
  },
  {
   "cell_type": "markdown",
   "metadata": {},
   "source": [
    "## Abrindo e Explorando os Dados\n",
    "\n",
    "Invés de acessar todos os dados da App Store e da Google Play Store, o qual seria muito trabalhoso e custoso, usaremos uma amostra.\n",
    "\n",
    "Nossa amostra consiste dos dois data sets, um com aproximadamente 10.000 aplicativos androids da Google Play Store (Coletado em agosto de 2018) e outro com 7.000 aplicativos IOS da App Store (coletado em julho de 2017) registrados.\n",
    "\n",
    "Vamos começar abrindo e explorando esses data sets."
   ]
  },
  {
   "cell_type": "code",
   "execution_count": 1,
   "metadata": {},
   "outputs": [],
   "source": [
    "# Data set da Google Play #\n",
    "from csv import reader\n",
    "file_and = open('googleplaystore.csv', 'r',encoding=\"utf-8\")\n",
    "reader_and = reader(file_and)\n",
    "android_data = list(reader_and)\n",
    "android_header = android_data[0] # Cabeçalho Android\n",
    "android_data = android_data[1:] #Dados dos Aplicativos Android registrados\n",
    "\n",
    "# Data set da App Store #\n",
    "file_ios = open('AppleStore.csv','r',encoding=\"utf-8\")\n",
    "reader_ios = reader(file_ios)\n",
    "ios_data = list(reader_ios)\n",
    "ios_header = ios_data[0] # Cabeçalho IOS\n",
    "ios_data = ios_data[1:] # Dados dos Aplicativos IOS registrados\n"
   ]
  },
  {
   "cell_type": "markdown",
   "metadata": {},
   "source": [
    "Para facilitar a exploração dos dois conjuntos de dados, criaremos uma função que nos mostra os conjuntos de dados de maneira mais legível.\n",
    "\n",
    "\n",
    "Esta função será chamada `explore_data()`  e terá uma opção para mostrar o número de linhas e colunas para qualquer conjunto de dados."
   ]
  },
  {
   "cell_type": "code",
   "execution_count": 2,
   "metadata": {},
   "outputs": [],
   "source": [
    "# Essa é a Função para Explorar os Dados #\n",
    "\n",
    "def explore_data(dataset, start, end, rows_and_columns=False):\n",
    "    dataset_slice = dataset[start:end]\n",
    "    for row in dataset_slice:\n",
    "        print(row)\n",
    "        print('\\n') # Adciona uma linha a cada linha de Aplicativo registrado\n",
    "        \n",
    "    if rows_and_columns:\n",
    "        print('Número de linhas:', len(dataset))\n",
    "        print('Número de colunas:', len(dataset[0]))                "
   ]
  },
  {
   "cell_type": "code",
   "execution_count": 3,
   "metadata": {},
   "outputs": [
    {
     "name": "stdout",
     "output_type": "stream",
     "text": [
      "['App', 'Category', 'Rating', 'Reviews', 'Size', 'Installs', 'Type', 'Price', 'Content Rating', 'Genres', 'Last Updated', 'Current Ver', 'Android Ver']\n",
      "\n",
      "\n",
      "['Photo Editor & Candy Camera & Grid & ScrapBook', 'ART_AND_DESIGN', '4.1', '159', '19M', '10,000+', 'Free', '0', 'Everyone', 'Art & Design', 'January 7, 2018', '1.0.0', '4.0.3 and up']\n",
      "\n",
      "\n",
      "['Coloring book moana', 'ART_AND_DESIGN', '3.9', '967', '14M', '500,000+', 'Free', '0', 'Everyone', 'Art & Design;Pretend Play', 'January 15, 2018', '2.0.0', '4.0.3 and up']\n",
      "\n",
      "\n",
      "['U Launcher Lite – FREE Live Cool Themes, Hide Apps', 'ART_AND_DESIGN', '4.7', '87510', '8.7M', '5,000,000+', 'Free', '0', 'Everyone', 'Art & Design', 'August 1, 2018', '1.2.4', '4.0.3 and up']\n",
      "\n",
      "\n",
      "Número de linhas: 10841\n",
      "Número de colunas: 13\n"
     ]
    }
   ],
   "source": [
    "print(android_header)\n",
    "print('\\n')\n",
    "explore_data(android_data, 0,3, True)"
   ]
  },
  {
   "cell_type": "markdown",
   "metadata": {
    "collapsed": true
   },
   "source": [
    "O conjunto de dados possui 13 colunas, 7 das quais podem ser úteis para nossa análise. São eles: \"`App, category, Reviews, Installs, Type, Price, and Genres`\". \n",
    "\n",
    "Para mais informações sobre o data set e suas colunas, [documentação Google Play](https://www.kaggle.com/lava18/google-play-store-apps).\n",
    "\n",
    "A seguir, Data set da App Store."
   ]
  },
  {
   "cell_type": "code",
   "execution_count": 4,
   "metadata": {},
   "outputs": [
    {
     "name": "stdout",
     "output_type": "stream",
     "text": [
      "['id', 'track_name', 'size_bytes', 'currency', 'price', 'rating_count_tot', 'rating_count_ver', 'user_rating', 'user_rating_ver', 'ver', 'cont_rating', 'prime_genre', 'sup_devices.num', 'ipadSc_urls.num', 'lang.num', 'vpp_lic']\n",
      "\n",
      "\n",
      "['284882215', 'Facebook', '389879808', 'USD', '0.0', '2974676', '212', '3.5', '3.5', '95.0', '4+', 'Social Networking', '37', '1', '29', '1']\n",
      "\n",
      "\n",
      "['389801252', 'Instagram', '113954816', 'USD', '0.0', '2161558', '1289', '4.5', '4.0', '10.23', '12+', 'Photo & Video', '37', '0', '29', '1']\n",
      "\n",
      "\n",
      "['529479190', 'Clash of Clans', '116476928', 'USD', '0.0', '2130805', '579', '4.5', '4.5', '9.24.12', '9+', 'Games', '38', '5', '18', '1']\n",
      "\n",
      "\n",
      "Número de linhas: 7197\n",
      "Número de colunas: 16\n"
     ]
    }
   ],
   "source": [
    "print(ios_header)\n",
    "print('\\n')\n",
    "explore_data(ios_data, 0,3, True)"
   ]
  },
  {
   "cell_type": "markdown",
   "metadata": {},
   "source": [
    "Esse data set tem 16 colunas e vamos usar 6: \"`track_name, currency, price, rating_count_tot, rating_count_ver and prime_genre`\".\n",
    "\n",
    "\n",
    "Para mais informações sobre o data set e suas colunas, [documentação App Store](https://www.kaggle.com/ramamet4/app-store-apple-data-set-10k-apps/home). "
   ]
  },
  {
   "cell_type": "markdown",
   "metadata": {},
   "source": [
    "## Limpando os Dados (Data Cleaning)\n",
    "\n",
    "Precisamos limpar os dados antes de analisar os mesmos. Nossa análise procura por um perfil que se encaixe no tipo de aplicativo que queremos desenvolver, gratuito e em inglês. Então precisamos remover aplicativos que não são gratuitos e não estão em Inglês.\n",
    "\n",
    "Além disso, O data set do Google Play tem uma [seção de discussão](https://www.kaggle.com/lava18/google-play-store-apps/discussion), podemos ver que [uma das discussões](https://www.kaggle.com/lava18/google-play-store-apps/discussion/66015) descrevem um erro na linha 10472.\n",
    "\n",
    "Vamos comparar ao cabeçalho e outra linha que esteja correta."
   ]
  },
  {
   "cell_type": "code",
   "execution_count": 5,
   "metadata": {},
   "outputs": [
    {
     "name": "stdout",
     "output_type": "stream",
     "text": [
      "['App', 'Category', 'Rating', 'Reviews', 'Size', 'Installs', 'Type', 'Price', 'Content Rating', 'Genres', 'Last Updated', 'Current Ver', 'Android Ver']\n",
      "\n",
      "\n",
      "['Coloring book moana', 'ART_AND_DESIGN', '3.9', '967', '14M', '500,000+', 'Free', '0', 'Everyone', 'Art & Design;Pretend Play', 'January 15, 2018', '2.0.0', '4.0.3 and up']\n",
      "\n",
      "\n",
      "['Life Made WI-Fi Touchscreen Photo Frame', '1.9', '19', '3.0M', '1,000+', 'Free', '0', 'Everyone', '', 'February 11, 2018', '1.0.19', '4.0 and up']\n"
     ]
    }
   ],
   "source": [
    "print(android_header) #Cabeçalho\n",
    "print('\\n')\n",
    "print(android_data[1]) #Linha com dado correto\n",
    "print('\\n')\n",
    "print(android_data[10472]) #Linha com dado incorreto"
   ]
  },
  {
   "cell_type": "markdown",
   "metadata": {},
   "source": [
    "O Aplicativo na linha 10472 tem uma avaliação de 19. Isso está incorreto, pois a avaliação máxima da Google Play Store é de 5.\n",
    "\n",
    "Então vamos remover essa linha do nosso data set usando o `del` statement."
   ]
  },
  {
   "cell_type": "code",
   "execution_count": 6,
   "metadata": {},
   "outputs": [
    {
     "name": "stdout",
     "output_type": "stream",
     "text": [
      "10841\n"
     ]
    }
   ],
   "source": [
    "print(len(android_data))\n",
    "del android_data[10472] #não execute mais de uma vez, vai deletar a nova linha 10472."
   ]
  },
  {
   "cell_type": "code",
   "execution_count": 7,
   "metadata": {},
   "outputs": [
    {
     "name": "stdout",
     "output_type": "stream",
     "text": [
      "10840\n"
     ]
    }
   ],
   "source": [
    "print(len(android_data))"
   ]
  },
  {
   "cell_type": "markdown",
   "metadata": {},
   "source": [
    "### Romvendo Registros Duplicados\n",
    "\n",
    "#### Parte Um: Identificando os Registros Duplicados\n",
    "\n",
    "É bem comum ter registros duplicados em data sets. Um bom exemplo é o *Instagram* no data set da Google Play Store."
   ]
  },
  {
   "cell_type": "code",
   "execution_count": 8,
   "metadata": {},
   "outputs": [
    {
     "name": "stdout",
     "output_type": "stream",
     "text": [
      "['Instagram', 'SOCIAL', '4.5', '66577313', 'Varies with device', '1,000,000,000+', 'Free', '0', 'Teen', 'Social', 'July 31, 2018', 'Varies with device', 'Varies with device']\n",
      "['Instagram', 'SOCIAL', '4.5', '66577446', 'Varies with device', '1,000,000,000+', 'Free', '0', 'Teen', 'Social', 'July 31, 2018', 'Varies with device', 'Varies with device']\n",
      "['Instagram', 'SOCIAL', '4.5', '66577313', 'Varies with device', '1,000,000,000+', 'Free', '0', 'Teen', 'Social', 'July 31, 2018', 'Varies with device', 'Varies with device']\n",
      "['Instagram', 'SOCIAL', '4.5', '66509917', 'Varies with device', '1,000,000,000+', 'Free', '0', 'Teen', 'Social', 'July 31, 2018', 'Varies with device', 'Varies with device']\n",
      "\n",
      "\n",
      "Instagram tem  4  registros duplicados\n"
     ]
    }
   ],
   "source": [
    "insta = 0 # Contador de quantos registros\n",
    "\n",
    "#Indentifica Registros duplicados do Instagram\n",
    "for i in android_data:\n",
    "    name = i[0]\n",
    "    if name == 'Instagram': #Verifica se registro é duplicado \n",
    "        print(i)\n",
    "        insta += 1 #Adciona a cada registro duplicado\n",
    "        \n",
    "print('\\n')\n",
    "print('Instagram tem ', insta, ' registros duplicados')   "
   ]
  },
  {
   "cell_type": "markdown",
   "metadata": {},
   "source": [
    "Agora vamos procurar por todos aplicativos que possuem duplicados."
   ]
  },
  {
   "cell_type": "code",
   "execution_count": 9,
   "metadata": {},
   "outputs": [
    {
     "name": "stdout",
     "output_type": "stream",
     "text": [
      "Número de aplicativos únicos: 9659\n",
      "\n",
      "\n",
      "Números de aplicativos duplicados: 1181\n",
      "\n",
      "\n",
      "Exemplos de aplicativos duplicados: ['Quick PDF Scanner + OCR FREE', 'Box', 'Google My Business', 'ZOOM Cloud Meetings', 'join.me - Simple Meetings']\n"
     ]
    }
   ],
   "source": [
    "unique_apps = [] #Lista de Apps únicos\n",
    "duplicate_apps = [] #Lista de registros duplicados\n",
    "\n",
    "#Separa registros únicos e duplicados\n",
    "for app in android_data:\n",
    "    name = app[0]\n",
    "    if name in unique_apps: #Verifica se registro é único\n",
    "        duplicate_apps.append(name) #Adciona registros únicos \n",
    "    else:\n",
    "        unique_apps.append(name) #Adciona registros duplicados\n",
    "        \n",
    "print('Número de aplicativos únicos:',len(unique_apps) )\n",
    "print('\\n')\n",
    "print('Números de aplicativos duplicados:', len(duplicate_apps))\n",
    "print('\\n')\n",
    "print('Exemplos de aplicativos duplicados:', duplicate_apps[:5])\n",
    "        "
   ]
  },
  {
   "cell_type": "markdown",
   "metadata": {},
   "source": [
    "O próximo passo é remover os aplicativos duplicados e manter apenas uma entrada. Devemos manter os melhores registros, para que tenhamos os melhores dados para nossa análise.\n",
    "\n",
    "Podemos supor que o motivo de haver vários registros é que os conjuntos de dados têm registros para diferentes períodos do mesmo aplicativo. Os melhores dados são os mais recentes e, embora tenhamos a versão do aplicativo, podemos ter vários registros da mesma versão. A melhor alternativa é examinar os números das revisões, quanto mais revisões, mais recentes devem ser os dados. As revisões estão na coluna número 4.\n",
    "\n",
    "Para limpar os dados, iremos:\n",
    "\n",
    "- Crie um dicionário com aplicativos exclusivos com o maior número de críticas, com o nome `reviews_max`\n",
    "\n",
    "- Use o `reviews_max` para verificar quais registros têm o maior número de revisões em nosso conjunto de dados e coloque-a em uma lista como o único registro para cada aplicativo. Também usaremos o `already_added` para acompanhar os aplicativos que têm vários registros e o mesmo número de revisões.\n",
    "\n",
    "Esta lista será chamada `android_clean` e deve ser tão longa quanto a lista ` unique_apps`."
   ]
  },
  {
   "cell_type": "code",
   "execution_count": 10,
   "metadata": {},
   "outputs": [
    {
     "name": "stdout",
     "output_type": "stream",
     "text": [
      "Quantidade Esperada: 9659\n",
      "\n",
      "\n",
      "Tamanho do Dicionário: 9659\n"
     ]
    }
   ],
   "source": [
    "reviews_max = {} #Registro único de cada aplicativo com o maior número de avaliações\n",
    "\n",
    "#Compara quantidade de avaliações e mantém os registros com as maiores\n",
    "for app in android_data:\n",
    "    name = app[0]\n",
    "    n_reviews = float(app[3]) #Quantidade de avaliações\n",
    "    \n",
    "    if name in reviews_max and (reviews_max[name] < n_reviews): #Verifica se já tem registro e compara o número de avaliações \n",
    "        reviews_max[name] = n_reviews #Se tiver mas números avaliações for menor, troca por novo registro\n",
    "        \n",
    "    elif name not in reviews_max: # Se não tiver, adciona o registro\n",
    "        reviews_max[name] = n_reviews\n",
    "        \n",
    "print('Quantidade Esperada:', len(android_data) - len(duplicate_apps) )\n",
    "print('\\n')\n",
    "print('Tamanho do Dicionário:', len(reviews_max))    "
   ]
  },
  {
   "cell_type": "code",
   "execution_count": 11,
   "metadata": {},
   "outputs": [],
   "source": [
    "android_clean = [] #Registro \"limpado\" de aplicativos \n",
    "already_added = [] #Usado para verificar se o aplicativo já está incluso\n",
    "\n",
    "#Adciona registros únicos com o maior quantidade de avaliações a lista \"android_clean\"\n",
    "for app in android_data:\n",
    "    name = app[0]\n",
    "    n_reviews = float(app[3]) #Quantidade de avaliações\n",
    "    \n",
    "    if n_reviews == reviews_max[name] and name not in already_added: #Verifica se é o maior número de avaliações e se é único\n",
    "        android_clean.append(app)\n",
    "        already_added.append(name)"
   ]
  },
  {
   "cell_type": "markdown",
   "metadata": {},
   "source": [
    "Agora vamos confirmar se nosso data set limpo (`android_clean`) tem a mesma quantidade de apps que a lista de apps únicos, o `unique_apps`."
   ]
  },
  {
   "cell_type": "code",
   "execution_count": 12,
   "metadata": {
    "scrolled": true
   },
   "outputs": [
    {
     "name": "stdout",
     "output_type": "stream",
     "text": [
      "Quantidade de linhas Esperada: 9659\n",
      "\n",
      "\n",
      "['Photo Editor & Candy Camera & Grid & ScrapBook', 'ART_AND_DESIGN', '4.1', '159', '19M', '10,000+', 'Free', '0', 'Everyone', 'Art & Design', 'January 7, 2018', '1.0.0', '4.0.3 and up']\n",
      "\n",
      "\n",
      "['U Launcher Lite – FREE Live Cool Themes, Hide Apps', 'ART_AND_DESIGN', '4.7', '87510', '8.7M', '5,000,000+', 'Free', '0', 'Everyone', 'Art & Design', 'August 1, 2018', '1.2.4', '4.0.3 and up']\n",
      "\n",
      "\n",
      "['Sketch - Draw & Paint', 'ART_AND_DESIGN', '4.5', '215644', '25M', '50,000,000+', 'Free', '0', 'Teen', 'Art & Design', 'June 8, 2018', 'Varies with device', '4.2 and up']\n",
      "\n",
      "\n",
      "Número de linhas: 9659\n",
      "Número de colunas: 13\n"
     ]
    }
   ],
   "source": [
    "print('Quantidade de linhas Esperada:', len(unique_apps))\n",
    "print('\\n')\n",
    "explore_data(android_clean, 0,3, True)"
   ]
  },
  {
   "cell_type": "markdown",
   "metadata": {},
   "source": [
    "## Removendo Apps Não-Inglês\n",
    "\n",
    "### Parte Um: Identificando Apps Não-Inglês\n",
    "\n",
    "Outro critério para a nossa análise é que nosso aplicativo vai ser desenvolvido para usuários que falam Inglês.\n",
    "Como nos aplicativos duplicados, precisamos identificar esses aplicativos, mas desta vez usaremos ambos data sets.\n",
    "\n",
    "Alguns exemplos de aplicativos que precisamos remover do nosso banco de dados:"
   ]
  },
  {
   "cell_type": "code",
   "execution_count": 13,
   "metadata": {},
   "outputs": [
    {
     "name": "stdout",
     "output_type": "stream",
     "text": [
      "爱奇艺PPS -《欢乐颂2》电视剧热播\n",
      "【脱出ゲーム】絶対に最後までプレイしないで 〜謎解き＆ブロックパズル〜\n",
      "\n",
      "\n",
      "中国語 AQリスニング\n",
      "لعبة تقدر تربح DZ\n"
     ]
    }
   ],
   "source": [
    "print(ios_data[813][1])\n",
    "print(ios_data[6731][1])\n",
    "print('\\n')\n",
    "print(android_clean[4412][0])\n",
    "print(android_clean[7940][0])"
   ]
  },
  {
   "cell_type": "markdown",
   "metadata": {},
   "source": [
    "A forma que vamos identificar esses apps é verificando se o nome do app contém alguma letra ou símbolo que não é usado em textos em Inglês. O Alfabeto Inglês, número, pontuações e outros símbolos matemáticos (+, -, * etc.) são usados em textos em Inglês.\n",
    "\n",
    "Esses caracteres são codificados usando o padrão ASCII. Cada caractere ASCII possui um número entre 0 e 127 associado a ele.\n",
    "É possível achar esse número no python, usando a função `ord()` e vamos usar a mesma para criar nossa função `eng_ver()` que identifica se um texto está em inglês. "
   ]
  },
  {
   "cell_type": "code",
   "execution_count": 14,
   "metadata": {},
   "outputs": [],
   "source": [
    "#Função que identifica se o texto está em inglês\n",
    "def eng_ver(string):\n",
    "    \n",
    "    for i in string:\n",
    "        if ord(i) > 127:\n",
    "            return False\n",
    "    return True"
   ]
  },
  {
   "cell_type": "code",
   "execution_count": 15,
   "metadata": {},
   "outputs": [
    {
     "name": "stdout",
     "output_type": "stream",
     "text": [
      "True\n",
      "False\n",
      "False\n",
      "False\n"
     ]
    }
   ],
   "source": [
    "#Teste da nossa função \"eng_ver\"\n",
    "print(eng_ver('Instagram'))\n",
    "print(eng_ver('爱奇艺PPS -《欢乐颂2》电视剧热播'))\n",
    "print(eng_ver('Docs To Go™ Free Office Suite'))\n",
    "print(eng_ver('Instachat 😜'))"
   ]
  },
  {
   "cell_type": "markdown",
   "metadata": {},
   "source": [
    "A função funciona, exceto para aplicativos com emoji ou outro símbolo em seu nome. (Exemplo:  ™ and 😜)\n",
    "\n",
    "Nessa forma atual, nossa função pode remover dados de aplicativos úteis para nossa análise."
   ]
  },
  {
   "cell_type": "markdown",
   "metadata": {
    "collapsed": true
   },
   "source": [
    "## Parte Dois: Filtro Avançado\n",
    "\n",
    "Para diminuir as chances de remover aplicativos errados, vamos remover apenas aplicativos se o nome tiver mais de 3 caracteres que não pertencem ao padrão ASCII."
   ]
  },
  {
   "cell_type": "code",
   "execution_count": 16,
   "metadata": {},
   "outputs": [
    {
     "name": "stdout",
     "output_type": "stream",
     "text": [
      "True\n",
      "True\n",
      "False\n"
     ]
    }
   ],
   "source": [
    "#Função que identifica e filtra aplicativos não-Inglês\n",
    "def eng_ver(string):\n",
    "    ver_counter = 0\n",
    "    \n",
    "    #Conta quantos caracteres não são do padrão ASCII\n",
    "    for i in string:     \n",
    "        if ord(i) > 127:\n",
    "            ver_counter +=1\n",
    "    \n",
    "    #Verifica se quantidade é maior que 3        \n",
    "    if ver_counter > 3:\n",
    "        return False\n",
    "            \n",
    "    return True\n",
    "\n",
    "print(eng_ver('Docs To Go™ Free Office Suite'))\n",
    "print(eng_ver('Instachat 😜'))\n",
    "print(eng_ver('爱奇艺PPS -《欢乐颂2》电视剧热播'))"
   ]
  },
  {
   "cell_type": "markdown",
   "metadata": {},
   "source": [
    "Essa função está longe de perfeita, e alguns aplicativos não-Inglês podem passar pelo nosso filtro. Até mesmo aplicativos em outras línguas, como Espanhol passam pelo nosso filtro.\n",
    "\n",
    "Mas já serve para fazer uma limpeza suficiente para nossa análise.\n",
    "\n",
    "Agora vamos usar a nossa função `eng_ver` para remover aplicativos que não estão em Inglês dos nossos data sets."
   ]
  },
  {
   "cell_type": "code",
   "execution_count": 17,
   "metadata": {},
   "outputs": [
    {
     "name": "stdout",
     "output_type": "stream",
     "text": [
      "['Photo Editor & Candy Camera & Grid & ScrapBook', 'ART_AND_DESIGN', '4.1', '159', '19M', '10,000+', 'Free', '0', 'Everyone', 'Art & Design', 'January 7, 2018', '1.0.0', '4.0.3 and up']\n",
      "\n",
      "\n",
      "['U Launcher Lite – FREE Live Cool Themes, Hide Apps', 'ART_AND_DESIGN', '4.7', '87510', '8.7M', '5,000,000+', 'Free', '0', 'Everyone', 'Art & Design', 'August 1, 2018', '1.2.4', '4.0.3 and up']\n",
      "\n",
      "\n",
      "['Sketch - Draw & Paint', 'ART_AND_DESIGN', '4.5', '215644', '25M', '50,000,000+', 'Free', '0', 'Teen', 'Art & Design', 'June 8, 2018', 'Varies with device', '4.2 and up']\n",
      "\n",
      "\n",
      "Número de linhas: 9614\n",
      "Número de colunas: 13\n",
      "\n",
      "\n",
      "['284882215', 'Facebook', '389879808', 'USD', '0.0', '2974676', '212', '3.5', '3.5', '95.0', '4+', 'Social Networking', '37', '1', '29', '1']\n",
      "\n",
      "\n",
      "['389801252', 'Instagram', '113954816', 'USD', '0.0', '2161558', '1289', '4.5', '4.0', '10.23', '12+', 'Photo & Video', '37', '0', '29', '1']\n",
      "\n",
      "\n",
      "['529479190', 'Clash of Clans', '116476928', 'USD', '0.0', '2130805', '579', '4.5', '4.5', '9.24.12', '9+', 'Games', '38', '5', '18', '1']\n",
      "\n",
      "\n",
      "Número de linhas: 6183\n",
      "Número de colunas: 16\n"
     ]
    }
   ],
   "source": [
    "android_clean_eng = [] #Lista para colocar os Aplicativos Android em Inglês\n",
    "ios_clean_eng = [] #Lista para colocar os Aplicativos IOS em Inglês\n",
    "\n",
    "#Filtra Aplicativos Androids que não estão em Inglês\n",
    "for i in android_clean:\n",
    "    name = i[0]\n",
    "    if eng_ver(name):\n",
    "        android_clean_eng.append(i) #Adciona Aplicativo em Inglês a Lista de Android\n",
    "        \n",
    "#Filtra Aplicativos IOS que não estão em Inglês\n",
    "for i in ios_data:\n",
    "    name = i[1]\n",
    "    if eng_ver(name):\n",
    "        ios_clean_eng.append(i) #Adciona Aplicativo em Inglês a Lista de IOS\n",
    "        \n",
    "explore_data(android_clean_eng, 0,3,True)\n",
    "print('\\n')\n",
    "explore_data(ios_clean_eng, 0, 3, True)\n"
   ]
  },
  {
   "cell_type": "markdown",
   "metadata": {},
   "source": [
    "## Isolando Aplicativos Gratuitos\n",
    "\n",
    "Nossos data sets contêm registros de aplicativos gratuitos e pagos. Nós desenvolvemos aplicativos gratuitos, logo o próximo passo é remover todos aplicativos pagos do nosso \"banco de dados\"."
   ]
  },
  {
   "cell_type": "code",
   "execution_count": 18,
   "metadata": {},
   "outputs": [
    {
     "name": "stdout",
     "output_type": "stream",
     "text": [
      "Aplicativos Androids Restantes: 8864\n",
      "\n",
      "\n",
      "Aplicativos IOS Restantes: 3222\n"
     ]
    }
   ],
   "source": [
    "#Listas dos Aplicativos Final (únicos, inglês e gratuitos)\n",
    "android_final = []\n",
    "ios_final = []\n",
    "\n",
    "#Verifica se o preço do app Android é 0\n",
    "for app in android_clean_eng:\n",
    "    price = app[7]\n",
    "    if price == '0' :\n",
    "        android_final.append(app)\n",
    "#Verifica se o preço do app IOS é 0        \n",
    "for app in ios_clean_eng:\n",
    "    price = app[4]\n",
    "    if price == '0.0':\n",
    "        ios_final.append(app)\n",
    "        \n",
    "print('Aplicativos Androids Restantes:',len(android_final))\n",
    "print('\\n')\n",
    "print('Aplicativos IOS Restantes:', len(ios_final))"
   ]
  },
  {
   "cell_type": "markdown",
   "metadata": {},
   "source": [
    "Sobrou 8864 Aplicativos Android e 3222 Aplicativos IOS para a nossa análise, que deve ser o suficiente. "
   ]
  },
  {
   "cell_type": "markdown",
   "metadata": {
    "collapsed": true
   },
   "source": [
    "## Gêneros mais Comuns\n",
    "\n",
    "O objetivo da nossa análise é descobrir qual tipo de aplicativo atrai o maior número de usuários para maximizar nossa receita que vem de anúncios.    \n",
    "\n",
    "Nossa estratégia para validar uma ideia de aplicativo terá três passos:\n",
    "\n",
    "1. Criar uma versão simplificada para Android e adicionar ao Google Play.\n",
    "2. Se o aplicativo for bem recebido, desenvolver uma versão mais completa.\n",
    "3. Se for lucrativo após seis meses, desenvolvemos uma versão IOS do aplicativo para a App Store. \n",
    "\n",
    "Importante notar que o aplicativo tem que ser bem-sucedido em ambos App Store e Google Play\n",
    "\n",
    "Então vamos começar nossa análise de qual gêneros mais comuns de cada data set. Essa análise pode ser feita com uma tabela de frequência para a coluna de `prime_genre` do App Store e as colunas `Genres e Category` da Google Play. \n",
    "\n",
    "Vamos criar duas funções para analisar as tabelas de frequência:\n",
    "\n",
    "- Função que gera tabela de frequência e mostra porcentagem\n",
    "- Função que coloca as porcentagens em ordem decrescente"
   ]
  },
  {
   "cell_type": "code",
   "execution_count": 19,
   "metadata": {
    "scrolled": false
   },
   "outputs": [
    {
     "name": "stdout",
     "output_type": "stream",
     "text": [
      "Games : 58.16263190564867\n",
      "Entertainment : 7.883302296710118\n",
      "Photo & Video : 4.9658597144630665\n",
      "Education : 3.662321539416512\n",
      "Social Networking : 3.2898820608317814\n",
      "Shopping : 2.60707635009311\n",
      "Utilities : 2.5139664804469275\n",
      "Sports : 2.1415270018621975\n",
      "Music : 2.0484171322160147\n",
      "Health & Fitness : 2.0173805090006205\n",
      "Productivity : 1.7380509000620732\n",
      "Lifestyle : 1.5828677839851024\n",
      "News : 1.3345747982619491\n",
      "Travel : 1.2414649286157666\n",
      "Finance : 1.1173184357541899\n",
      "Weather : 0.8690254500310366\n",
      "Food & Drink : 0.8069522036002483\n",
      "Reference : 0.5586592178770949\n",
      "Business : 0.5276225946617008\n",
      "Book : 0.4345127250155183\n",
      "Navigation : 0.186219739292365\n",
      "Medical : 0.186219739292365\n",
      "Catalogs : 0.12414649286157665\n",
      "\n",
      "\n",
      "Tools : 8.449909747292418\n",
      "Entertainment : 6.069494584837545\n",
      "Education : 5.347472924187725\n",
      "Business : 4.591606498194946\n",
      "Productivity : 3.892148014440433\n",
      "Lifestyle : 3.892148014440433\n",
      "Finance : 3.7003610108303246\n",
      "Medical : 3.531137184115524\n",
      "Sports : 3.463447653429603\n",
      "Personalization : 3.3167870036101084\n",
      "Communication : 3.2378158844765346\n",
      "Action : 3.1024368231046933\n",
      "Health & Fitness : 3.0798736462093865\n",
      "Photography : 2.944494584837545\n",
      "News & Magazines : 2.7978339350180503\n",
      "Social : 2.6624548736462095\n",
      "Travel & Local : 2.3240072202166067\n",
      "Shopping : 2.2450361010830324\n",
      "Books & Reference : 2.1435018050541514\n",
      "Simulation : 2.0419675090252705\n",
      "Dating : 1.861462093862816\n",
      "Arcade : 1.8501805054151623\n",
      "Video Players & Editors : 1.7712093862815883\n",
      "Casual : 1.7599277978339352\n",
      "Maps & Navigation : 1.3989169675090252\n",
      "Food & Drink : 1.2409747292418771\n",
      "Puzzle : 1.128158844765343\n",
      "Racing : 0.9927797833935018\n",
      "Role Playing : 0.9363718411552346\n",
      "Libraries & Demo : 0.9363718411552346\n",
      "Auto & Vehicles : 0.9250902527075812\n",
      "Strategy : 0.9138086642599278\n",
      "House & Home : 0.8235559566787004\n",
      "Weather : 0.8009927797833934\n",
      "Events : 0.7107400722021661\n",
      "Adventure : 0.6768953068592057\n",
      "Comics : 0.6092057761732852\n",
      "Beauty : 0.5979241877256317\n",
      "Art & Design : 0.5979241877256317\n",
      "Parenting : 0.4963898916967509\n",
      "Card : 0.45126353790613716\n",
      "Casino : 0.42870036101083037\n",
      "Trivia : 0.41741877256317694\n",
      "Educational;Education : 0.39485559566787\n",
      "Board : 0.3835740072202166\n",
      "Educational : 0.3722924187725632\n",
      "Education;Education : 0.33844765342960287\n",
      "Word : 0.2594765342960289\n",
      "Casual;Pretend Play : 0.236913357400722\n",
      "Music : 0.2030685920577617\n",
      "Racing;Action & Adventure : 0.16922382671480143\n",
      "Puzzle;Brain Games : 0.16922382671480143\n",
      "Entertainment;Music & Video : 0.16922382671480143\n",
      "Casual;Brain Games : 0.13537906137184114\n",
      "Casual;Action & Adventure : 0.13537906137184114\n",
      "Arcade;Action & Adventure : 0.12409747292418773\n",
      "Action;Action & Adventure : 0.10153429602888085\n",
      "Educational;Pretend Play : 0.09025270758122744\n",
      "Simulation;Action & Adventure : 0.078971119133574\n",
      "Parenting;Education : 0.078971119133574\n",
      "Entertainment;Brain Games : 0.078971119133574\n",
      "Board;Brain Games : 0.078971119133574\n",
      "Parenting;Music & Video : 0.06768953068592057\n",
      "Educational;Brain Games : 0.06768953068592057\n",
      "Casual;Creativity : 0.06768953068592057\n",
      "Art & Design;Creativity : 0.06768953068592057\n",
      "Education;Pretend Play : 0.056407942238267145\n",
      "Role Playing;Pretend Play : 0.04512635379061372\n",
      "Education;Creativity : 0.04512635379061372\n",
      "Role Playing;Action & Adventure : 0.033844765342960284\n",
      "Puzzle;Action & Adventure : 0.033844765342960284\n",
      "Entertainment;Creativity : 0.033844765342960284\n",
      "Entertainment;Action & Adventure : 0.033844765342960284\n",
      "Educational;Creativity : 0.033844765342960284\n",
      "Educational;Action & Adventure : 0.033844765342960284\n",
      "Education;Music & Video : 0.033844765342960284\n",
      "Education;Brain Games : 0.033844765342960284\n",
      "Education;Action & Adventure : 0.033844765342960284\n",
      "Adventure;Action & Adventure : 0.033844765342960284\n",
      "Video Players & Editors;Music & Video : 0.02256317689530686\n",
      "Sports;Action & Adventure : 0.02256317689530686\n",
      "Simulation;Pretend Play : 0.02256317689530686\n",
      "Puzzle;Creativity : 0.02256317689530686\n",
      "Music;Music & Video : 0.02256317689530686\n",
      "Entertainment;Pretend Play : 0.02256317689530686\n",
      "Casual;Education : 0.02256317689530686\n",
      "Board;Action & Adventure : 0.02256317689530686\n",
      "Video Players & Editors;Creativity : 0.01128158844765343\n",
      "Trivia;Education : 0.01128158844765343\n",
      "Travel & Local;Action & Adventure : 0.01128158844765343\n",
      "Tools;Education : 0.01128158844765343\n",
      "Strategy;Education : 0.01128158844765343\n",
      "Strategy;Creativity : 0.01128158844765343\n",
      "Strategy;Action & Adventure : 0.01128158844765343\n",
      "Simulation;Education : 0.01128158844765343\n",
      "Role Playing;Brain Games : 0.01128158844765343\n",
      "Racing;Pretend Play : 0.01128158844765343\n",
      "Puzzle;Education : 0.01128158844765343\n",
      "Parenting;Brain Games : 0.01128158844765343\n",
      "Music & Audio;Music & Video : 0.01128158844765343\n",
      "Lifestyle;Pretend Play : 0.01128158844765343\n",
      "Lifestyle;Education : 0.01128158844765343\n",
      "Health & Fitness;Education : 0.01128158844765343\n",
      "Health & Fitness;Action & Adventure : 0.01128158844765343\n",
      "Entertainment;Education : 0.01128158844765343\n",
      "Communication;Creativity : 0.01128158844765343\n",
      "Comics;Creativity : 0.01128158844765343\n",
      "Casual;Music & Video : 0.01128158844765343\n",
      "Card;Action & Adventure : 0.01128158844765343\n",
      "Books & Reference;Education : 0.01128158844765343\n",
      "Art & Design;Pretend Play : 0.01128158844765343\n",
      "Art & Design;Action & Adventure : 0.01128158844765343\n",
      "Arcade;Pretend Play : 0.01128158844765343\n",
      "Adventure;Education : 0.01128158844765343\n",
      "\n",
      "\n",
      "FAMILY : 18.907942238267147\n",
      "GAME : 9.724729241877256\n",
      "TOOLS : 8.461191335740072\n",
      "BUSINESS : 4.591606498194946\n",
      "LIFESTYLE : 3.9034296028880866\n",
      "PRODUCTIVITY : 3.892148014440433\n",
      "FINANCE : 3.7003610108303246\n",
      "MEDICAL : 3.531137184115524\n",
      "SPORTS : 3.395758122743682\n",
      "PERSONALIZATION : 3.3167870036101084\n",
      "COMMUNICATION : 3.2378158844765346\n",
      "HEALTH_AND_FITNESS : 3.0798736462093865\n",
      "PHOTOGRAPHY : 2.944494584837545\n",
      "NEWS_AND_MAGAZINES : 2.7978339350180503\n",
      "SOCIAL : 2.6624548736462095\n",
      "TRAVEL_AND_LOCAL : 2.33528880866426\n",
      "SHOPPING : 2.2450361010830324\n",
      "BOOKS_AND_REFERENCE : 2.1435018050541514\n",
      "DATING : 1.861462093862816\n",
      "VIDEO_PLAYERS : 1.7937725631768955\n",
      "MAPS_AND_NAVIGATION : 1.3989169675090252\n",
      "FOOD_AND_DRINK : 1.2409747292418771\n",
      "EDUCATION : 1.1620036101083033\n",
      "ENTERTAINMENT : 0.9589350180505415\n",
      "LIBRARIES_AND_DEMO : 0.9363718411552346\n",
      "AUTO_AND_VEHICLES : 0.9250902527075812\n",
      "HOUSE_AND_HOME : 0.8235559566787004\n",
      "WEATHER : 0.8009927797833934\n",
      "EVENTS : 0.7107400722021661\n",
      "PARENTING : 0.6543321299638989\n",
      "ART_AND_DESIGN : 0.6430505415162455\n",
      "COMICS : 0.6204873646209386\n",
      "BEAUTY : 0.5979241877256317\n"
     ]
    }
   ],
   "source": [
    "#Cria Tabela de Frequência\n",
    "def freq_table(dataset, index):\n",
    "    \n",
    "    freq_table_dic = {} #Guarda item com sua frequência conrrespondente\n",
    "    total_freq_number = 0 #Conta quantos itens foram inseridos\n",
    "    \n",
    "    #Contabiliza a Frequência\n",
    "    for i in dataset:\n",
    "        \n",
    "        total_freq_number +=1 #Adciona a contagem de itens inseridos\n",
    "        freq_col = i[index]  #Seleciona a coluna desejada \n",
    "        \n",
    "        if freq_col in freq_table_dic: #Verifica se a coluna já tem registro\n",
    "            freq_table_dic[freq_col] += 1 # Com registro: contabiliza a frequência do registro \n",
    "        \n",
    "        else:\n",
    "            freq_table_dic[freq_col] = 1 #Sem registro: cria item novo com o primeiro registro\n",
    "        \n",
    "   \n",
    "    freq_table_perc = {} #Tabela de frequência dos registros\n",
    "    \n",
    "    for i in freq_table_dic: \n",
    "        \n",
    "        percentage = (freq_table_dic[i]/total_freq_number) * 100 #Pega a quantidade de registros de cada item e divide pelo número total de itens e múltipla por 100 para virar porcentagem\n",
    "        freq_table_perc[i] = percentage\n",
    "\n",
    "    return freq_table_perc #Retorna a Tabela preenchida\n",
    "\n",
    "#Cria e Exibi Tabela de Frequência\n",
    "def display_table(dataset, index):\n",
    "    \n",
    "    table = freq_table(dataset, index) #Cria Tabela de Frequência\n",
    "    table_display = [] #Lista que vai ser usada para exibir os dados da tabela\n",
    "    \n",
    "    for key in table: \n",
    "        key_val_as_tuple = (table[key], key) #Extrai a frequência do item (aplicativo)\n",
    "        table_display.append(key_val_as_tuple) #Adciona a frequência do item paraa a lista de exibição\n",
    "\n",
    "    table_sorted = sorted(table_display, reverse = True) #Coloca a lista em ordem decrescente\n",
    "    for entry in table_sorted:\n",
    "        print(entry[1], ':', entry[0]) #Exibi nome do item (aplicativo) e sua frequência\n",
    "        \n",
    "display_table(ios_final, -5) #Tabela de Frequência da App Store, Coluna: Prime_genre\n",
    "print('\\n')\n",
    "display_table(android_final, -4) #Tabela de Frequência da Google Play Store, Coluna: genre\n",
    "print('\\n')\n",
    "display_table(android_final, 1) #Tabela de Frequência da Google Play Store, Coluna: category"
   ]
  },
  {
   "cell_type": "markdown",
   "metadata": {
    "collapsed": true
   },
   "source": [
    "### Parte Três\n",
    "\n",
    "#### App Store: Prime Genre\n",
    "\n",
    "Analisando a App Store, o gênero de \"Games\" tem mais do que a metade (58,16%) da oferta de aplicativos. Outros aplicativos de entretenimento tem quase 8% e aplicativos de fotos e video chegam quase em 5%. Apenas 3,66% dos aplicativos atuam na área de educação e 3,29% são redes sociais. \n",
    "\n",
    "A Oferta então pode se resumir em grande parte para entretenimento, especialmente jogos.\n",
    "\n",
    "Entretanto, devemos analisar a demanda por esses aplicativos para poder tirar alguma conclusão.\n",
    "\n",
    "\n",
    "####  Google Play: Category\n",
    "\n",
    "Agora vamos para os dados da Google Play. Analisando Gêneros e Categoria, é possível ver uma grande diferença em relação a App Store. \n",
    "\n",
    "[![img](https://s3.amazonaws.com/dq-content/350/py1m8_family.png)](https://play.google.com/store/apps/category/FAMILY?hl=en)\n",
    "\n",
    "A categoria de Familia (family), é composta na maioria por jogos, assumindo isso, quase 29% dos aplicativos são jogos. Apesar de ser uma grande fatia dos aplicativos da Google Play Store, ainda é metade da porcentagem de jogos na App Store (58%). \n",
    "\n",
    "\n",
    "#### Google Play: Genres\n",
    "\n",
    "Apesar da coluna Categoria dar uma boa visão geral dos aplicativos na Google Play, a coluna de gêneros é ainda mais segmentada e vai possibilitar fazer uma análise mais aprofundada dos aplicativos \"não-jogos\". \n",
    "\n",
    "Até aqui, descobrimos que a App Store tem na sua maioria, aplicativos de jogos e diversão, enquanto a Google Store tem uma distribuição melhor de variedades de aplicativos disponíveis. \n",
    "\n",
    "Agora, a pergunta é: \"Qual tipo de aplicativo tem mais usuários?\""
   ]
  },
  {
   "cell_type": "code",
   "execution_count": 20,
   "metadata": {},
   "outputs": [
    {
     "name": "stdout",
     "output_type": "stream",
     "text": [
      "Social Networking : 71548.34905660378\n",
      "Photo & Video : 28441.54375\n",
      "Games : 22788.6696905016\n",
      "Music : 57326.530303030304\n",
      "Reference : 74942.11111111111\n",
      "Health & Fitness : 23298.015384615384\n",
      "Weather : 52279.892857142855\n",
      "Utilities : 18684.456790123455\n",
      "Travel : 28243.8\n",
      "Shopping : 26919.690476190477\n",
      "News : 21248.023255813954\n",
      "Navigation : 86090.33333333333\n",
      "Lifestyle : 16485.764705882353\n",
      "Entertainment : 14029.830708661417\n",
      "Food & Drink : 33333.92307692308\n",
      "Sports : 23008.898550724636\n",
      "Book : 39758.5\n",
      "Finance : 31467.944444444445\n",
      "Education : 7003.983050847458\n",
      "Productivity : 21028.410714285714\n",
      "Business : 7491.117647058823\n",
      "Catalogs : 4004.0\n",
      "Medical : 612.0\n"
     ]
    }
   ],
   "source": [
    "#Tabela de Frequência da App store, coluna: prime_genre\n",
    "prime_genre_freq = freq_table(ios_final, -5)\n",
    "\n",
    "#Para cada genêro, verifica se um app é do gênero e se adicona a quantidade de úsuarios\n",
    "for genre in prime_genre_freq:\n",
    "    total = 0\n",
    "    len_genre = 0\n",
    "    \n",
    "    #Extrai a quantidade de úsuarios por app e adciona ao gênero conrrespondente do mesmo\n",
    "    for app in ios_final:\n",
    "        genre_app = app[-5] \n",
    "        \n",
    "        if genre == genre_app:\n",
    "            users_app = float(app[5])\n",
    "            total += users_app\n",
    "            len_genre += 1\n",
    "\n",
    "    avg_user_rat_prime = total / len_genre #Divide a soma total de úsuarios de cada gênero, pela quantidade total de aplicativos do gênero\n",
    "\n",
    "    print(genre, \":\", avg_user_rat_prime)"
   ]
  },
  {
   "cell_type": "markdown",
   "metadata": {},
   "source": [
    "A primeira vista, temos aplicativos de navegação, meteorologia e redes sociais como fortes candidatos. Mas podemos raciocinar que esses números devem estar inflados pelos apps da Waze, Google Maps, Facebook e outros. Isso também vale para o gênero de música, temos Spotify que já domina muito bem esse mercado, e tentar competir com aplicativos já bem estabelecidos, não parece ser uma boa ideia. \n",
    "\n",
    "Outro fator é a complexidade do desenvolvimento e manutenção desses aplicativos, que entrega vários tipos de serviços. Isso vale para outras categorias como aplicativos de Comida, que exigem toda uma produção além do aplicativo em si e de Finanças, que também tem sua demanda adicional e conhecimento mais aprofundado da área. \n",
    "\n",
    "*Além de ser popular, o perfil do aplicativo tem que ser viável para nossa capacidade de desenvolvimento.* \n",
    "\n",
    "Um gênero interessante é \"Reference\", que são apps para consulta de informação com dicionários e enciclopédias. Apesar de ter média de usuários interessante (74,942), ela também é influenciada por grandes aplicativos como Bible e Dictionary.com. \n",
    "\n",
    "Apesar disso, aparenta ser um mercado bem mais acessível para nós.\n",
    "\n",
    "Agora, os usuários por categoria:"
   ]
  },
  {
   "cell_type": "code",
   "execution_count": 21,
   "metadata": {},
   "outputs": [
    {
     "name": "stdout",
     "output_type": "stream",
     "text": [
      "ART_AND_DESIGN : 198633508.77192983\n",
      "AUTO_AND_VEHICLES : 64731781.70731707\n",
      "BEAUTY : 51315188.679245286\n",
      "BOOKS_AND_REFERENCE : 876781189.4736841\n",
      "BUSINESS : 171229014.74201474\n",
      "COMICS : 81765727.27272727\n",
      "COMMUNICATION : 3845611916.7247386\n",
      "DATING : 85402883.03030303\n",
      "EDUCATION : 183349514.5631068\n",
      "ENTERTAINMENT : 1164070588.235294\n",
      "EVENTS : 25354222.22222222\n",
      "FINANCE : 138769247.5609756\n",
      "FOOD_AND_DRINK : 192489773.63636363\n",
      "HEALTH_AND_FITNESS : 418882198.5347985\n",
      "HOUSE_AND_HOME : 133154056.16438356\n",
      "LIBRARIES_AND_DEMO : 63850373.4939759\n",
      "LIFESTYLE : 143781626.87861273\n",
      "GAME : 1558801560.324826\n",
      "FAMILY : 369564181.98090696\n",
      "MEDICAL : 12055061.980830671\n",
      "SOCIAL : 2325365212.7118645\n",
      "SHOPPING : 703687731.1557789\n",
      "PHOTOGRAPHY : 1784011040.2298849\n",
      "SPORTS : 363864014.28571427\n",
      "TRAVEL_AND_LOCAL : 1398407771.0144928\n",
      "TOOLS : 1080139129.8666668\n",
      "PERSONALIZATION : 520148261.22448975\n",
      "PRODUCTIVITY : 1678733134.4927535\n",
      "PARENTING : 54260362.06896552\n",
      "WEATHER : 507448619.7183099\n",
      "VIDEO_PLAYERS : 2472787245.2830186\n",
      "NEWS_AND_MAGAZINES : 954917846.7741934\n",
      "MAPS_AND_NAVIGATION : 405694177.41935486\n"
     ]
    }
   ],
   "source": [
    "cat_freq = freq_table(android_final, 1)\n",
    "\n",
    "#Para cada categoria, verifica se um app é da categoria e se adicona a quantidade de úsuarios\n",
    "for category in cat_freq:\n",
    "    total = 0\n",
    "    len_category = 0\n",
    "    \n",
    "    for app in android_final:\n",
    "        category_app = app[1]\n",
    "       \n",
    "    #Extrai a quantidade de úsuarios por app e adciona ao gênero conrrespondente do mesmo \n",
    "        if category_app == category:\n",
    "            n_installs = app[5]\n",
    "            n_installs = n_installs.replace('+','') #Tira sinal postivo do número que representa quantidade\n",
    "            n_installs = n_installs.replace(',','') #Tira virgula para poder converter o texto em número\n",
    "            n_installs = float(n_installs)\n",
    "            total += n_installs\n",
    "            len_category += 1\n",
    "            \n",
    "    avg_installs = (total / len_category) * 100 #Divide a soma total de úsuarios de cada categoria, pela quantidade total de aplicativos da categoria\n",
    "\n",
    "    print(category, \":\" , avg_installs)"
   ]
  },
  {
   "cell_type": "markdown",
   "metadata": {},
   "source": [
    "Indo mais a fundo, a ramo de literatura é dominado por aplicativos para leitura de ebooks e outra coleções de livrarias e dicionários. Então uma abordagem mais generalizada não aparenta ser apropriada. \n",
    "\n",
    "Uma alternativa é procura um público mais nichado, e criar um app para um livro popular ou um gênero popular. Mas além de ter o livro, oferecer features especificas pensadas nos leitores desses livros como quizzes, fóruns entre outros. \n",
    "\n",
    "Assim, o aplicativo já tem um público definido e que pode acessar tanto pelo Google Play quanto na App Store. "
   ]
  }
 ],
 "metadata": {
  "kernelspec": {
   "display_name": "Python 3",
   "language": "python",
   "name": "python3"
  },
  "language_info": {
   "codemirror_mode": {
    "name": "ipython",
    "version": 3
   },
   "file_extension": ".py",
   "mimetype": "text/x-python",
   "name": "python",
   "nbconvert_exporter": "python",
   "pygments_lexer": "ipython3",
   "version": "3.7.6"
  }
 },
 "nbformat": 4,
 "nbformat_minor": 2
}
