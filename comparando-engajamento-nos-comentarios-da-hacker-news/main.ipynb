{
 "cells": [
  {
   "cell_type": "markdown",
   "metadata": {
    "collapsed": true
   },
   "source": [
    "# Comparando engajamento nos Comentários da Hacker News\n",
    "\n",
    "Neste projeto, vamos comparar dois tipos de posts do site [\"Hacker News\"](https://news.ycombinator.com/), um site que compila várias noticias e artigos relacionados a tecnologia são compartilhados em formato de \"posts\". Esses posts podem receber votos e comentários. \n",
    "\n",
    "O objetivo e comparar o volume de comentários dos post que começam com \"Ask HN:\" e \"Show HN\". Os post com \"Ask HN:\" são perguntas direcionadas a comunidade do Hacker News e os com \"Show HN\" são de usuários que querem mostrar a comunidade, algum produto, projeto ou simplesmente algo interessante.\n",
    "\n",
    "Vamos comparar esses dois tipos de post para responder as seguintes questões:\n",
    "\n",
    "- Em média, quem recebe mais comentários?\n",
    "- Existem horários que geram, nos posts, mais comentários que a média? \n",
    "\n",
    "*Esse projeto faz parte da Formação de Analista de Dados da \"Dataquest\", que disponibilizou um arquivo com soluções o qual foi consultado em algumas ocasiões.*\n",
    "\n",
    "### Conclusão\n",
    "Baseado nos dados de posts do \"Ask HN\" com comentários, o horário que maximiza o engajamento da comunidade, seria por volta das 15:00.\n",
    "\n",
    "De acordo com a documentação do dataset, a zona de horário do dataset é \"Eastern Time(ET)\" nos Estados Unidos. Fazendo a conversão, isso seria as 16:00 ou 4:00 PM no horário de Brasília."
   ]
  },
  {
   "cell_type": "markdown",
   "metadata": {},
   "source": [
    "## Acessando a amostra de dados \n",
    "\n",
    "Para nossa analise, usaremos uma amostra de 20,000 posts. Essa mostra foi extraída de um dataset com 300,000, a qual foi retirada posts sem comentários e selecionando randomicamente do restante. Para acessar o dataset usado, [clique aqui](https://www.kaggle.com/hacker-news/hacker-news-posts). \n",
    "\n",
    "### Abrindo arquivo com dataset"
   ]
  },
  {
   "cell_type": "code",
   "execution_count": 1,
   "metadata": {},
   "outputs": [
    {
     "name": "stdout",
     "output_type": "stream",
     "text": [
      "['id', 'title', 'url', 'num_points', 'num_comments', 'author', 'created_at']\n",
      "\n",
      "\n",
      "[['12224879', 'Interactive Dynamic Video', 'http://www.interactivedynamicvideo.com/', '386', '52', 'ne0phyte', '8/4/2016 11:52'], ['10975351', 'How to Use Open Source and Shut the Fuck Up at the Same Time', 'http://hueniverse.com/2016/01/26/how-to-use-open-source-and-shut-the-fuck-up-at-the-same-time/', '39', '10', 'josep2', '1/26/2016 19:30'], ['11964716', \"Florida DJs May Face Felony for April Fools' Water Joke\", 'http://www.thewire.com/entertainment/2013/04/florida-djs-april-fools-water-joke/63798/', '2', '1', 'vezycash', '6/23/2016 22:20'], ['11919867', 'Technology ventures: From Idea to Enterprise', 'https://www.amazon.com/Technology-Ventures-Enterprise-Thomas-Byers/dp/0073523429', '3', '1', 'hswarna', '6/17/2016 0:01']]\n"
     ]
    }
   ],
   "source": [
    "#Abre o dataset\n",
    "from csv import reader\n",
    "\n",
    "hacker_news_opened = open(\"hacker_news.csv\")\n",
    "hacker_news_read = reader(hacker_news_opened)\n",
    "\n",
    "hn = list(hacker_news_read) #lista de dados\n",
    "hn_header = hn[0] #cabeçalho\n",
    "hn = hn[1:] #lista de dados sem cabeçalho\n",
    "\n",
    "#Explorando parte dos dados\n",
    "print(hn_header)\n",
    "print('\\n')\n",
    "print(hn[:4])"
   ]
  },
  {
   "cell_type": "markdown",
   "metadata": {},
   "source": [
    "### Filtrando os Dados\n",
    "\n",
    "A análise sera feita apenas nos post que começam com \"Ask HN\" e \"Show HN\". Para separar esses posts vamos criar duas listas onde cada uma contêm dados de um tipo de post."
   ]
  },
  {
   "cell_type": "code",
   "execution_count": 2,
   "metadata": {},
   "outputs": [
    {
     "name": "stdout",
     "output_type": "stream",
     "text": [
      "Posts com 'Ask hn': 1744\n",
      "Posts com 'Show hn': 1162\n",
      "Outros posts: 17194\n"
     ]
    }
   ],
   "source": [
    "#Listas dos tipos de post\n",
    "ask_posts = []\n",
    "show_posts = []\n",
    "other_posts = [] #Posts que não se encaixam na nossa análise\n",
    "\n",
    "#Filtra e separa os dados\n",
    "for i in hn:\n",
    "    title = i[1]\n",
    "    \n",
    "    if title.lower().startswith(\"ask hn\"):\n",
    "        ask_posts.append(i)\n",
    "    elif title.lower().startswith(\"show hn\"):\n",
    "        show_posts.append(i)\n",
    "    else:\n",
    "        other_posts.append(i)\n",
    "        \n",
    "print(\"Posts com 'Ask hn':\",len(ask_posts))\n",
    "print(\"Posts com 'Show hn':\",len(show_posts))\n",
    "print(\"Outros posts:\",len(other_posts))"
   ]
  },
  {
   "cell_type": "markdown",
   "metadata": {},
   "source": [
    "## Média de Comentário por Post"
   ]
  },
  {
   "cell_type": "code",
   "execution_count": 9,
   "metadata": {},
   "outputs": [
    {
     "name": "stdout",
     "output_type": "stream",
     "text": [
      "Média de comentários dos posts \"Ask HN\" : 14.04\n",
      "Média de comentários dos posts \"Show HN\" : 10.32\n"
     ]
    }
   ],
   "source": [
    "#Quantidade total de comentários dos post com Ask HN\n",
    "total_ask_comments = 0\n",
    "\n",
    "for i in ask_posts:\n",
    "    num_comments = int(i[4])\n",
    "    total_ask_comments += num_comments\n",
    "    \n",
    "#Calcula a média de comentários dos post com Ask HN\n",
    "avg_ask_comments = total_ask_comments / len(ask_posts)\n",
    "\n",
    "print('Média de comentários dos posts \"Ask HN\" : {number:.2f}'.format(number=avg_ask_comments))\n",
    "\n",
    "#Quantidade total de comentários dos post com Show HN\n",
    "total_show_comments = 0\n",
    "\n",
    "for i in show_posts:\n",
    "    num_comments = int(i[4])\n",
    "    total_show_comments += num_comments\n",
    "    \n",
    "#Calcula a média de comentários dos post com Show HN\n",
    "avg_show_comments = total_show_comments / len(show_posts)\n",
    "\n",
    "print('Média de comentários dos posts \"Show HN\" : {number:.2f}'.format(number=avg_show_comments))\n",
    "\n"
   ]
  },
  {
   "cell_type": "markdown",
   "metadata": {},
   "source": [
    "A média de comentários nos posts \"Ask HN\" é maior do que a de \"Show HN\". Uma hipótise que explica essa diferença seria que posts com dúvidas, recebem as respostas no comentários o que resulta em um engajamento maior da comunidade.\n",
    "\n",
    "Como os posts com perguntas recebem mais atenção, vamos focar o resto dessa análise nesses posts.\n",
    "\n",
    "## Quantidade de Post e Comentários por Hora\n",
    "\n",
    "Agora vamos descobrir se um post criado em algum horário específico gera atraí mais comentários. Para isso vamos:\n",
    "\n",
    "- Calcular para cada horário do dia, quantos post são criados e quantos comentários são recebidos.  \n",
    "- Calcular a média de comentários dos posts por horário. "
   ]
  },
  {
   "cell_type": "code",
   "execution_count": 30,
   "metadata": {},
   "outputs": [
    {
     "data": {
      "text/plain": [
       "{'00': 447,\n",
       " '01': 683,\n",
       " '02': 1381,\n",
       " '03': 421,\n",
       " '04': 337,\n",
       " '05': 464,\n",
       " '06': 397,\n",
       " '07': 267,\n",
       " '08': 492,\n",
       " '09': 251,\n",
       " '10': 793,\n",
       " '11': 641,\n",
       " '12': 687,\n",
       " '13': 1253,\n",
       " '14': 1416,\n",
       " '15': 4477,\n",
       " '16': 1814,\n",
       " '17': 1146,\n",
       " '18': 1439,\n",
       " '19': 1188,\n",
       " '20': 1722,\n",
       " '21': 1745,\n",
       " '22': 479,\n",
       " '23': 543}"
      ]
     },
     "execution_count": 30,
     "metadata": {},
     "output_type": "execute_result"
    }
   ],
   "source": [
    "#Calcula quantidades de post e comentários por hora\n",
    "import datetime as dt\n",
    "\n",
    "result_list = []\n",
    "\n",
    "#Extrai data e quantidade de comentários\n",
    "for i in ask_posts:\n",
    "    created_at = i[6]\n",
    "    number_comments = int(i[4])\n",
    "    ask_list = [created_at, number_comments]\n",
    "    result_list.append(ask_list)\n",
    "\n",
    "#Posts por hora\n",
    "counts_by_hour = {}\n",
    "#Comentários por hora\n",
    "comments_by_hour = {}\n",
    "date_format = \"%m/%d/%Y %H:%M\"\n",
    "\n",
    "#contabiliza cada post no seu horário correspondente e adiciona sua quantidade de comentários  \n",
    "for i in result_list:\n",
    "    date = i[0]\n",
    "    comments = i[1]\n",
    "    hour = dt.datetime.strptime(date,date_format).strftime(\"%H\")\n",
    "    \n",
    "    if hour not in counts_by_hour:\n",
    "        counts_by_hour[hour] = 1\n",
    "        comments_by_hour[hour] = comments\n",
    "        \n",
    "    else:\n",
    "        counts_by_hour[hour] += 1\n",
    "        comments_by_hour[hour] += comments\n",
    "\n",
    "comments_by_hour"
   ]
  },
  {
   "cell_type": "code",
   "execution_count": 32,
   "metadata": {},
   "outputs": [
    {
     "name": "stdout",
     "output_type": "stream",
     "text": [
      "[['08', 10.25], ['21', 16.009174311926607], ['07', 7.852941176470588], ['15', 38.5948275862069], ['03', 7.796296296296297], ['14', 13.233644859813085], ['20', 21.525], ['23', 7.985294117647059], ['06', 9.022727272727273], ['12', 9.41095890410959], ['00', 8.127272727272727], ['01', 11.383333333333333], ['18', 13.20183486238532], ['16', 16.796296296296298], ['02', 23.810344827586206], ['04', 7.170212765957447], ['05', 10.08695652173913], ['11', 11.051724137931034], ['13', 14.741176470588234], ['22', 6.746478873239437], ['10', 13.440677966101696], ['19', 10.8], ['09', 5.5777777777777775], ['17', 11.46]]\n"
     ]
    }
   ],
   "source": [
    "#lista de horários com média de comentários\n",
    "avg_by_hour = []\n",
    "\n",
    "#Para cada horário, divide a quantidade de comentários pela quantidade de posts\n",
    "for i in counts_by_hour:\n",
    "    avg_by_hour.append([i, comments_by_hour[i] / counts_by_hour[i]])\n",
    "\n",
    "print(avg_by_hour)\n"
   ]
  },
  {
   "cell_type": "code",
   "execution_count": 36,
   "metadata": {},
   "outputs": [
    {
     "name": "stdout",
     "output_type": "stream",
     "text": [
      "Os 5 Horários com a maior média de comentários nos Posts \"Ask HN\"\n",
      "15:00: 38.59 comentários em média por post\n",
      "02:00: 23.81 comentários em média por post\n",
      "20:00: 21.52 comentários em média por post\n",
      "16:00: 16.80 comentários em média por post\n",
      "21:00: 16.01 comentários em média por post\n"
     ]
    }
   ],
   "source": [
    "swap_avg_by_hour = []\n",
    "\n",
    "for i in avg_by_hour:\n",
    "    swap_avg_by_hour.append([i[1],i[0]])\n",
    "\n",
    "sorted_swap = sorted(swap_avg_by_hour, reverse = True)\n",
    "\n",
    "print('Os 5 Horários com a maior média de comentários nos Posts \"Ask HN\"')\n",
    "\n",
    "for avg, hour in sorted_swap[:5]:\n",
    "    formatted_hour = dt.datetime.strptime(hour, \"%H\").strftime(\"%H:%M\")\n",
    "    print(\"{h}: {a:.2f} comentários em média por post\".format(h = formatted_hour, a = avg)\n",
    "    )"
   ]
  },
  {
   "cell_type": "markdown",
   "metadata": {},
   "source": [
    "O melhor horário para postar uma pergunta é por volta das 15:00, em média a quantidade de comentários, 38.59 é mais de 100% maior que a média de todos os posts 14.04. \n",
    "\n",
    "E quando comparada ao segundo colocado, 02:00, ainda tem uma vantagem de 60%.\n"
   ]
  },
  {
   "cell_type": "markdown",
   "metadata": {},
   "source": [
    "## Conclusão\n",
    "Baseado nos dados de posts do \"Ask HN\" com comentários, o horário que maximiza o engajamento da comunidade, seria por volta das 15:00. \n",
    "\n",
    "De acordo com a [documentação do dataset](https://www.kaggle.com/hacker-news/hacker-news-posts/home), a zona de horário do dataset é \"Eastern Time(ET)\" nos Estados Unidos. Fazendo a conversão, isso seria as 16:00 ou 4:00 PM no horário de Brasília.   "
   ]
  }
 ],
 "metadata": {
  "kernelspec": {
   "display_name": "Python 3",
   "language": "python",
   "name": "python3"
  },
  "language_info": {
   "codemirror_mode": {
    "name": "ipython",
    "version": 3
   },
   "file_extension": ".py",
   "mimetype": "text/x-python",
   "name": "python",
   "nbconvert_exporter": "python",
   "pygments_lexer": "ipython3",
   "version": "3.7.3"
  }
 },
 "nbformat": 4,
 "nbformat_minor": 2
}
